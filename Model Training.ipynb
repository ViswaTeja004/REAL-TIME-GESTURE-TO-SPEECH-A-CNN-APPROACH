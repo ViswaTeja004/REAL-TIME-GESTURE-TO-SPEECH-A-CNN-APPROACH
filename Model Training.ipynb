{
 "cells": [
  {
   "cell_type": "code",
   "execution_count": null,
   "id": "f5dca83f",
   "metadata": {
    "execution": {
     "iopub.execute_input": "2024-01-06T10:36:51.248541Z",
     "iopub.status.busy": "2024-01-06T10:36:51.247617Z",
     "iopub.status.idle": "2024-01-06T10:36:51.261355Z",
     "shell.execute_reply": "2024-01-06T10:36:51.260388Z"
    },
    "papermill": {
     "duration": 0.029616,
     "end_time": "2024-01-06T10:36:51.263910",
     "exception": false,
     "start_time": "2024-01-06T10:36:51.234294",
     "status": "completed"
    },
    "tags": []
   },
   "outputs": [],
   "source": [
    "class CFG:\n",
    "    data_path = \"../input/asl-signs/\"\n",
    "    tf_record_path = \"/kaggle/input/islr-12-time-steps-tfrecords/\"\n",
    "    sequence_length = 12\n",
    "    rows_per_frame = 543\n",
    "    is_training = True\n"
   ]
  },
  {
   "cell_type": "code",
   "execution_count": 3,
   "id": "862f74fb",
   "metadata": {
    "execution": {
     "iopub.execute_input": "2024-01-06T10:36:51.310949Z",
     "iopub.status.busy": "2024-01-06T10:36:51.310189Z",
     "iopub.status.idle": "2024-01-06T10:36:58.799074Z",
     "shell.execute_reply": "2024-01-06T10:36:58.798070Z"
    },
    "papermill": {
     "duration": 7.504614,
     "end_time": "2024-01-06T10:36:58.801938",
     "exception": false,
     "start_time": "2024-01-06T10:36:51.297324",
     "status": "completed"
    },
    "tags": []
   },
   "outputs": [],
   "source": [
    "import numpy as np\n",
    "import pandas as pd\n",
    "import tensorflow as tf\n",
    "from tensorflow import keras\n",
    "from tensorflow.keras import layers\n",
    "from tqdm import tqdm\n",
    "import json\n",
    "import time\n",
    "import os\n",
    "np.random.seed(16)\n",
    "tf.random.set_seed(16)"
   ]
  },
  {
   "cell_type": "code",
   "execution_count": 3,
   "id": "6cc6423f",
   "metadata": {
    "execution": {
     "iopub.execute_input": "2024-01-06T10:36:58.849127Z",
     "iopub.status.busy": "2024-01-06T10:36:58.848013Z",
     "iopub.status.idle": "2024-01-06T10:36:58.858819Z",
     "shell.execute_reply": "2024-01-06T10:36:58.857733Z"
    },
    "papermill": {
     "duration": 0.025652,
     "end_time": "2024-01-06T10:36:58.861388",
     "exception": false,
     "start_time": "2024-01-06T10:36:58.835736",
     "status": "completed"
    },
    "tags": []
   },
   "outputs": [],
   "source": [
    "ROWS_PER_FRAME = 543  # number of landmarks per frame\n",
    "\n",
    "def load_relevant_data_subset_with_imputation(pq_path):\n",
    "    data_columns = ['x', 'y']\n",
    "    data = pd.read_parquet(pq_path, columns=data_columns)\n",
    "    data.replace(np.nan, 0, inplace=True)\n",
    "    n_frames = int(len(data) / ROWS_PER_FRAME)\n",
    "    data = data.values.reshape(n_frames, ROWS_PER_FRAME, len(data_columns))\n",
    "    return data.astype(np.float16)\n",
    "\n",
    "def load_relevant_data_subset(pq_path):\n",
    "    data_columns = ['x', 'y']\n",
    "    data = pd.read_parquet(pq_path, columns=data_columns)\n",
    "    n_frames = int(len(data) / ROWS_PER_FRAME)\n",
    "    data = data.values.reshape(n_frames, ROWS_PER_FRAME, len(data_columns))\n",
    "    return data.astype(np.float32)\n",
    "\n",
    "def read_dict(file_path):\n",
    "    path = os.path.expanduser(file_path)\n",
    "    with open(path, \"r\") as f:\n",
    "        dic = json.load(f)\n",
    "    return dic"
   ]
  },
  {
   "cell_type": "markdown",
   "id": "cf7f0c32",
   "metadata": {
    "papermill": {
     "duration": 0.01095,
     "end_time": "2024-01-06T10:36:58.883751",
     "exception": false,
     "start_time": "2024-01-06T10:36:58.872801",
     "status": "completed"
    },
    "tags": []
   },
   "source": [
    "## Load data"
   ]
  },
  {
   "cell_type": "code",
   "execution_count": 4,
   "id": "bfc42b28",
   "metadata": {
    "execution": {
     "iopub.execute_input": "2024-01-06T10:36:58.909637Z",
     "iopub.status.busy": "2024-01-06T10:36:58.908821Z",
     "iopub.status.idle": "2024-01-06T10:36:59.119794Z",
     "shell.execute_reply": "2024-01-06T10:36:59.118480Z"
    },
    "papermill": {
     "duration": 0.227917,
     "end_time": "2024-01-06T10:36:59.123048",
     "exception": false,
     "start_time": "2024-01-06T10:36:58.895131",
     "status": "completed"
    },
    "tags": []
   },
   "outputs": [
    {
     "data": {
      "text/html": [
       "<div>\n",
       "<style scoped>\n",
       "    .dataframe tbody tr th:only-of-type {\n",
       "        vertical-align: middle;\n",
       "    }\n",
       "\n",
       "    .dataframe tbody tr th {\n",
       "        vertical-align: top;\n",
       "    }\n",
       "\n",
       "    .dataframe thead th {\n",
       "        text-align: right;\n",
       "    }\n",
       "</style>\n",
       "<table border=\"1\" class=\"dataframe\">\n",
       "  <thead>\n",
       "    <tr style=\"text-align: right;\">\n",
       "      <th></th>\n",
       "      <th>path</th>\n",
       "      <th>participant_id</th>\n",
       "      <th>sequence_id</th>\n",
       "      <th>sign</th>\n",
       "    </tr>\n",
       "  </thead>\n",
       "  <tbody>\n",
       "    <tr>\n",
       "      <th>0</th>\n",
       "      <td>train_landmark_files/26734/1000035562.parquet</td>\n",
       "      <td>26734</td>\n",
       "      <td>1000035562</td>\n",
       "      <td>blow</td>\n",
       "    </tr>\n",
       "    <tr>\n",
       "      <th>1</th>\n",
       "      <td>train_landmark_files/28656/1000106739.parquet</td>\n",
       "      <td>28656</td>\n",
       "      <td>1000106739</td>\n",
       "      <td>wait</td>\n",
       "    </tr>\n",
       "    <tr>\n",
       "      <th>2</th>\n",
       "      <td>train_landmark_files/16069/100015657.parquet</td>\n",
       "      <td>16069</td>\n",
       "      <td>100015657</td>\n",
       "      <td>cloud</td>\n",
       "    </tr>\n",
       "    <tr>\n",
       "      <th>3</th>\n",
       "      <td>train_landmark_files/25571/1000210073.parquet</td>\n",
       "      <td>25571</td>\n",
       "      <td>1000210073</td>\n",
       "      <td>bird</td>\n",
       "    </tr>\n",
       "    <tr>\n",
       "      <th>4</th>\n",
       "      <td>train_landmark_files/62590/1000240708.parquet</td>\n",
       "      <td>62590</td>\n",
       "      <td>1000240708</td>\n",
       "      <td>owie</td>\n",
       "    </tr>\n",
       "  </tbody>\n",
       "</table>\n",
       "</div>"
      ],
      "text/plain": [
       "                                            path  participant_id  sequence_id  \\\n",
       "0  train_landmark_files/26734/1000035562.parquet           26734   1000035562   \n",
       "1  train_landmark_files/28656/1000106739.parquet           28656   1000106739   \n",
       "2   train_landmark_files/16069/100015657.parquet           16069    100015657   \n",
       "3  train_landmark_files/25571/1000210073.parquet           25571   1000210073   \n",
       "4  train_landmark_files/62590/1000240708.parquet           62590   1000240708   \n",
       "\n",
       "    sign  \n",
       "0   blow  \n",
       "1   wait  \n",
       "2  cloud  \n",
       "3   bird  \n",
       "4   owie  "
      ]
     },
     "execution_count": 4,
     "metadata": {},
     "output_type": "execute_result"
    }
   ],
   "source": [
    "train = pd.read_csv(f\"{CFG.data_path}train.csv\")\n",
    "train.head()"
   ]
  },
  {
   "cell_type": "markdown",
   "id": "b0a1049b",
   "metadata": {
    "papermill": {
     "duration": 0.012297,
     "end_time": "2024-01-06T10:36:59.147496",
     "exception": false,
     "start_time": "2024-01-06T10:36:59.135199",
     "status": "completed"
    },
    "tags": []
   },
   "source": [
    "There are 21 participants. Each of them created about 3000 to 5000 training records."
   ]
  },
  {
   "cell_type": "code",
   "execution_count": 5,
   "id": "0ba7c4c5",
   "metadata": {
    "execution": {
     "iopub.execute_input": "2024-01-06T10:36:59.173269Z",
     "iopub.status.busy": "2024-01-06T10:36:59.172291Z",
     "iopub.status.idle": "2024-01-06T10:36:59.184472Z",
     "shell.execute_reply": "2024-01-06T10:36:59.183438Z"
    },
    "papermill": {
     "duration": 0.027964,
     "end_time": "2024-01-06T10:36:59.187083",
     "exception": false,
     "start_time": "2024-01-06T10:36:59.159119",
     "status": "completed"
    },
    "tags": []
   },
   "outputs": [
    {
     "data": {
      "text/plain": [
       "21"
      ]
     },
     "execution_count": 5,
     "metadata": {},
     "output_type": "execute_result"
    }
   ],
   "source": [
    "train.participant_id.nunique()"
   ]
  },
  {
   "cell_type": "code",
   "execution_count": 6,
   "id": "af0a1d0b",
   "metadata": {
    "execution": {
     "iopub.execute_input": "2024-01-06T10:36:59.212903Z",
     "iopub.status.busy": "2024-01-06T10:36:59.212207Z",
     "iopub.status.idle": "2024-01-06T10:36:59.604209Z",
     "shell.execute_reply": "2024-01-06T10:36:59.603111Z"
    },
    "papermill": {
     "duration": 0.407833,
     "end_time": "2024-01-06T10:36:59.606911",
     "exception": false,
     "start_time": "2024-01-06T10:36:59.199078",
     "status": "completed"
    },
    "tags": []
   },
   "outputs": [
    {
     "data": {
      "text/plain": [
       "<AxesSubplot:>"
      ]
     },
     "execution_count": 6,
     "metadata": {},
     "output_type": "execute_result"
    },
    {
     "data": {
      "image/png": "[encoded data removed]",
      "text/plain": [
       "<Figure size 640x480 with 1 Axes>"
      ]
     },
     "metadata": {},
     "output_type": "display_data"
    }
   ],
   "source": [
    "train.participant_id.value_counts().plot(kind=\"bar\")"
   ]
  },
  {
   "cell_type": "markdown",
   "id": "583096e1",
   "metadata": {
    "papermill": {
     "duration": 0.011603,
     "end_time": "2024-01-06T10:36:59.630954",
     "exception": false,
     "start_time": "2024-01-06T10:36:59.619351",
     "status": "completed"
    },
    "tags": []
   },
   "source": [
    "There are 94477 training samples in total."
   ]
  },
  {
   "cell_type": "code",
   "execution_count": 7,
   "id": "ad94b5fc",
   "metadata": {
    "execution": {
     "iopub.execute_input": "2024-01-06T10:36:59.658302Z",
     "iopub.status.busy": "2024-01-06T10:36:59.657264Z",
     "iopub.status.idle": "2024-01-06T10:36:59.664390Z",
     "shell.execute_reply": "2024-01-06T10:36:59.663306Z"
    },
    "papermill": {
     "duration": 0.02361,
     "end_time": "2024-01-06T10:36:59.666757",
     "exception": false,
     "start_time": "2024-01-06T10:36:59.643147",
     "status": "completed"
    },
    "tags": []
   },
   "outputs": [
    {
     "data": {
      "text/plain": [
       "94477"
      ]
     },
     "execution_count": 7,
     "metadata": {},
     "output_type": "execute_result"
    }
   ],
   "source": [
    "len(train)"
   ]
  },
  {
   "cell_type": "markdown",
   "id": "01a64ef2",
   "metadata": {
    "papermill": {
     "duration": 0.01209,
     "end_time": "2024-01-06T10:36:59.691319",
     "exception": false,
     "start_time": "2024-01-06T10:36:59.679229",
     "status": "completed"
    },
    "tags": []
   },
   "source": [
    "There are 250 kinds of sign languages that we need to make prediction on."
   ]
  },
  {
   "cell_type": "code",
   "execution_count": 8,
   "id": "6d048c02",
   "metadata": {
    "execution": {
     "iopub.execute_input": "2024-01-06T10:36:59.718374Z",
     "iopub.status.busy": "2024-01-06T10:36:59.717339Z",
     "iopub.status.idle": "2024-01-06T10:36:59.805036Z",
     "shell.execute_reply": "2024-01-06T10:36:59.803775Z"
    },
    "papermill": {
     "duration": 0.10386,
     "end_time": "2024-01-06T10:36:59.807568",
     "exception": false,
     "start_time": "2024-01-06T10:36:59.703708",
     "status": "completed"
    },
    "tags": []
   },
   "outputs": [
    {
     "name": "stdout",
     "output_type": "stream",
     "text": [
      "{'TV': 0, 'after': 1, 'airplane': 2, 'all': 3, 'alligator': 4, 'animal': 5, 'another': 6, 'any': 7, 'apple': 8, 'arm': 9, 'aunt': 10, 'awake': 11, 'backyard': 12, 'bad': 13, 'balloon': 14, 'bath': 15, 'because': 16, 'bed': 17, 'bedroom': 18, 'bee': 19, 'before': 20, 'beside': 21, 'better': 22, 'bird': 23, 'black': 24, 'blow': 25, 'blue': 26, 'boat': 27, 'book': 28, 'boy': 29, 'brother': 30, 'brown': 31, 'bug': 32, 'bye': 33, 'callonphone': 34, 'can': 35, 'car': 36, 'carrot': 37, 'cat': 38, 'cereal': 39, 'chair': 40, 'cheek': 41, 'child': 42, 'chin': 43, 'chocolate': 44, 'clean': 45, 'close': 46, 'closet': 47, 'cloud': 48, 'clown': 49, 'cow': 50, 'cowboy': 51, 'cry': 52, 'cut': 53, 'cute': 54, 'dad': 55, 'dance': 56, 'dirty': 57, 'dog': 58, 'doll': 59, 'donkey': 60, 'down': 61, 'drawer': 62, 'drink': 63, 'drop': 64, 'dry': 65, 'dryer': 66, 'duck': 67, 'ear': 68, 'elephant': 69, 'empty': 70, 'every': 71, 'eye': 72, 'face': 73, 'fall': 74, 'farm': 75, 'fast': 76, 'feet': 77, 'find': 78, 'fine': 79, 'finger': 80, 'finish': 81, 'fireman': 82, 'first': 83, 'fish': 84, 'flag': 85, 'flower': 86, 'food': 87, 'for': 88, 'frenchfries': 89, 'frog': 90, 'garbage': 91, 'gift': 92, 'giraffe': 93, 'girl': 94, 'give': 95, 'glasswindow': 96, 'go': 97, 'goose': 98, 'grandma': 99, 'grandpa': 100, 'grass': 101, 'green': 102, 'gum': 103, 'hair': 104, 'happy': 105, 'hat': 106, 'hate': 107, 'have': 108, 'haveto': 109, 'head': 110, 'hear': 111, 'helicopter': 112, 'hello': 113, 'hen': 114, 'hesheit': 115, 'hide': 116, 'high': 117, 'home': 118, 'horse': 119, 'hot': 120, 'hungry': 121, 'icecream': 122, 'if': 123, 'into': 124, 'jacket': 125, 'jeans': 126, 'jump': 127, 'kiss': 128, 'kitty': 129, 'lamp': 130, 'later': 131, 'like': 132, 'lion': 133, 'lips': 134, 'listen': 135, 'look': 136, 'loud': 137, 'mad': 138, 'make': 139, 'man': 140, 'many': 141, 'milk': 142, 'minemy': 143, 'mitten': 144, 'mom': 145, 'moon': 146, 'morning': 147, 'mouse': 148, 'mouth': 149, 'nap': 150, 'napkin': 151, 'night': 152, 'no': 153, 'noisy': 154, 'nose': 155, 'not': 156, 'now': 157, 'nuts': 158, 'old': 159, 'on': 160, 'open': 161, 'orange': 162, 'outside': 163, 'owie': 164, 'owl': 165, 'pajamas': 166, 'pen': 167, 'pencil': 168, 'penny': 169, 'person': 170, 'pig': 171, 'pizza': 172, 'please': 173, 'police': 174, 'pool': 175, 'potty': 176, 'pretend': 177, 'pretty': 178, 'puppy': 179, 'puzzle': 180, 'quiet': 181, 'radio': 182, 'rain': 183, 'read': 184, 'red': 185, 'refrigerator': 186, 'ride': 187, 'room': 188, 'sad': 189, 'same': 190, 'say': 191, 'scissors': 192, 'see': 193, 'shhh': 194, 'shirt': 195, 'shoe': 196, 'shower': 197, 'sick': 198, 'sleep': 199, 'sleepy': 200, 'smile': 201, 'snack': 202, 'snow': 203, 'stairs': 204, 'stay': 205, 'sticky': 206, 'store': 207, 'story': 208, 'stuck': 209, 'sun': 210, 'table': 211, 'talk': 212, 'taste': 213, 'thankyou': 214, 'that': 215, 'there': 216, 'think': 217, 'thirsty': 218, 'tiger': 219, 'time': 220, 'tomorrow': 221, 'tongue': 222, 'tooth': 223, 'toothbrush': 224, 'touch': 225, 'toy': 226, 'tree': 227, 'uncle': 228, 'underwear': 229, 'up': 230, 'vacuum': 231, 'wait': 232, 'wake': 233, 'water': 234, 'wet': 235, 'weus': 236, 'where': 237, 'white': 238, 'who': 239, 'why': 240, 'will': 241, 'wolf': 242, 'yellow': 243, 'yes': 244, 'yesterday': 245, 'yourself': 246, 'yucky': 247, 'zebra': 248, 'zipper': 249}\n"
     ]
    },
    {
     "data": {
      "text/html": [
       "<div>\n",
       "<style scoped>\n",
       "    .dataframe tbody tr th:only-of-type {\n",
       "        vertical-align: middle;\n",
       "    }\n",
       "\n",
       "    .dataframe tbody tr th {\n",
       "        vertical-align: top;\n",
       "    }\n",
       "\n",
       "    .dataframe thead th {\n",
       "        text-align: right;\n",
       "    }\n",
       "</style>\n",
       "<table border=\"1\" class=\"dataframe\">\n",
       "  <thead>\n",
       "    <tr style=\"text-align: right;\">\n",
       "      <th></th>\n",
       "      <th>path</th>\n",
       "      <th>participant_id</th>\n",
       "      <th>sequence_id</th>\n",
       "      <th>sign</th>\n",
       "      <th>label</th>\n",
       "    </tr>\n",
       "  </thead>\n",
       "  <tbody>\n",
       "    <tr>\n",
       "      <th>0</th>\n",
       "      <td>train_landmark_files/26734/1000035562.parquet</td>\n",
       "      <td>26734</td>\n",
       "      <td>1000035562</td>\n",
       "      <td>blow</td>\n",
       "      <td>25</td>\n",
       "    </tr>\n",
       "    <tr>\n",
       "      <th>1</th>\n",
       "      <td>train_landmark_files/28656/1000106739.parquet</td>\n",
       "      <td>28656</td>\n",
       "      <td>1000106739</td>\n",
       "      <td>wait</td>\n",
       "      <td>232</td>\n",
       "    </tr>\n",
       "    <tr>\n",
       "      <th>2</th>\n",
       "      <td>train_landmark_files/16069/100015657.parquet</td>\n",
       "      <td>16069</td>\n",
       "      <td>100015657</td>\n",
       "      <td>cloud</td>\n",
       "      <td>48</td>\n",
       "    </tr>\n",
       "    <tr>\n",
       "      <th>3</th>\n",
       "      <td>train_landmark_files/25571/1000210073.parquet</td>\n",
       "      <td>25571</td>\n",
       "      <td>1000210073</td>\n",
       "      <td>bird</td>\n",
       "      <td>23</td>\n",
       "    </tr>\n",
       "    <tr>\n",
       "      <th>4</th>\n",
       "      <td>train_landmark_files/62590/1000240708.parquet</td>\n",
       "      <td>62590</td>\n",
       "      <td>1000240708</td>\n",
       "      <td>owie</td>\n",
       "      <td>164</td>\n",
       "    </tr>\n",
       "  </tbody>\n",
       "</table>\n",
       "</div>"
      ],
      "text/plain": [
       "                                            path  participant_id  sequence_id  \\\n",
       "0  train_landmark_files/26734/1000035562.parquet           26734   1000035562   \n",
       "1  train_landmark_files/28656/1000106739.parquet           28656   1000106739   \n",
       "2   train_landmark_files/16069/100015657.parquet           16069    100015657   \n",
       "3  train_landmark_files/25571/1000210073.parquet           25571   1000210073   \n",
       "4  train_landmark_files/62590/1000240708.parquet           62590   1000240708   \n",
       "\n",
       "    sign  label  \n",
       "0   blow     25  \n",
       "1   wait    232  \n",
       "2  cloud     48  \n",
       "3   bird     23  \n",
       "4   owie    164  "
      ]
     },
     "execution_count": 8,
     "metadata": {},
     "output_type": "execute_result"
    }
   ],
   "source": [
    "label_index = read_dict(f\"{CFG.data_path}sign_to_prediction_index_map.json\")\n",
    "index_label = dict([(label_index[key], key) for key in label_index])\n",
    "print(label_index)\n",
    "train[\"label\"] = train[\"sign\"].map(lambda sign: label_index[sign])\n",
    "train.head()"
   ]
  },
  {
   "cell_type": "code",
   "execution_count": 9,
   "id": "b34210d9",
   "metadata": {
    "execution": {
     "iopub.execute_input": "2024-01-06T10:36:59.862105Z",
     "iopub.status.busy": "2024-01-06T10:36:59.860978Z",
     "iopub.status.idle": "2024-01-06T10:36:59.874447Z",
     "shell.execute_reply": "2024-01-06T10:36:59.873474Z"
    },
    "papermill": {
     "duration": 0.030381,
     "end_time": "2024-01-06T10:36:59.876953",
     "exception": false,
     "start_time": "2024-01-06T10:36:59.846572",
     "status": "completed"
    },
    "tags": []
   },
   "outputs": [],
   "source": [
    "def decode_function(record_bytes):\n",
    "    return tf.io.parse_single_example(\n",
    "          # Data\n",
    "          record_bytes,\n",
    "          # Schema\n",
    "          {\n",
    "              \"feature\": tf.io.FixedLenFeature([12 * 543 * 3], dtype=tf.float32),\n",
    "              \"label\": tf.io.FixedLenFeature([], dtype=tf.int64)\n",
    "          }\n",
    "      )\n",
    "def preprocess(item):\n",
    "    features = item[\"feature\"]\n",
    "#     features = tf.reshape(features, (1,CFG.sequence_length, 543,3))\n",
    "    features=tf.reshape(features, (1,12, 543, 3))\n",
    "#         \"face\"       : np.arange(0, 468),\n",
    "#     \"left_hand\"  : np.arange(468, 489),\n",
    "#     \"pose\"       : np.arange(489, 522),\n",
    "#     \"right_hand\" : np.arange(522, 543),\n",
    "    features=tf.transpose(features, perm=[3, 1, 2, 0])\n",
    "    features1=features[:,-5:,468:489,:]\n",
    "    features2=features[:,-5:,522:543,:]\n",
    "    features=tf.concat([features1, features2],2)\n",
    "    print(features.shape)\n",
    "    return features, item[\"label\"]         \n",
    "def make_dataset(file_paths, batch_size=128, mode=\"train\"):\n",
    "    ds = tf.data.TFRecordDataset(file_paths)\n",
    "    ds = ds.map(decode_function)\n",
    "    ds = ds.map(preprocess)\n",
    "    options = tf.data.Options()\n",
    "    if mode == \"train\":\n",
    "        ds = ds.shuffle(1024)\n",
    "        options.experimental_deterministic = False\n",
    "    ds = ds.batch(batch_size, drop_remainder=True)\n",
    "    ds = ds.with_options(options) \n",
    "    ds = ds.cache().prefetch(tf.data.AUTOTUNE)\n",
    "    return ds"
   ]
  },
  {
   "cell_type": "code",
   "execution_count": 10,
   "id": "82c888dd",
   "metadata": {
    "execution": {
     "iopub.execute_input": "2024-01-06T10:36:59.904572Z",
     "iopub.status.busy": "2024-01-06T10:36:59.903522Z",
     "iopub.status.idle": "2024-01-06T10:37:02.478037Z",
     "shell.execute_reply": "2024-01-06T10:37:02.476922Z"
    },
    "papermill": {
     "duration": 2.591106,
     "end_time": "2024-01-06T10:37:02.480635",
     "exception": false,
     "start_time": "2024-01-06T10:36:59.889529",
     "status": "completed"
    },
    "tags": []
   },
   "outputs": [
    {
     "name": "stdout",
     "output_type": "stream",
     "text": [
      "(3, 5, 42, 1)\n",
      "(3, 5, 42, 1)\n"
     ]
    }
   ],
   "source": [
    "unique_ids = np.array(sorted(train.participant_id.unique()))\n",
    "train_ds = make_dataset([f\"{CFG.tf_record_path}{identifier}.tfrecords\" for identifier in unique_ids[:-4]])\n",
    "valid_ds = make_dataset([f\"{CFG.tf_record_path}{identifier}.tfrecords\" for identifier in unique_ids[-4:]], mode=\"valid\")"
   ]
  },
  {
   "cell_type": "code",
   "execution_count": 11,
   "id": "b0e9cb83",
   "metadata": {
    "execution": {
     "iopub.execute_input": "2024-01-06T10:37:02.507311Z",
     "iopub.status.busy": "2024-01-06T10:37:02.506506Z",
     "iopub.status.idle": "2024-01-06T10:37:02.516559Z",
     "shell.execute_reply": "2024-01-06T10:37:02.515583Z"
    },
    "papermill": {
     "duration": 0.02546,
     "end_time": "2024-01-06T10:37:02.518725",
     "exception": false,
     "start_time": "2024-01-06T10:37:02.493265",
     "status": "completed"
    },
    "tags": []
   },
   "outputs": [],
   "source": [
    "import numpy as np\n",
    "\n",
    "\n",
    "def edge2mat(link, num_node):\n",
    "    A = np.zeros((num_node, num_node))\n",
    "    for i, j in link:\n",
    "        A[j, i] = 1\n",
    "    return A\n",
    "\n",
    "\n",
    "def normalize_digraph(A):  # 除以每列的和\n",
    "    Dl = np.sum(A, 0)\n",
    "    h, w = A.shape\n",
    "    Dn = np.zeros((w, w))\n",
    "    for i in range(w):\n",
    "        if Dl[i] > 0:\n",
    "            Dn[i, i] = Dl[i] ** (-1)\n",
    "    AD = np.dot(A, Dn)\n",
    "    return AD\n",
    "\n",
    "\n",
    "def get_spatial_graph(num_node, self_link, inward, outward):\n",
    "    I = edge2mat(self_link, num_node)\n",
    "    In = normalize_digraph(edge2mat(inward, num_node))\n",
    "    Out = normalize_digraph(edge2mat(outward, num_node))\n",
    "    A = np.stack((I, In, Out))\n",
    "    return A\n"
   ]
  },
  {
   "cell_type": "markdown",
   "id": "ab4a4ed1",
   "metadata": {
    "papermill": {
     "duration": 0.012096,
     "end_time": "2024-01-06T10:37:02.542905",
     "exception": false,
     "start_time": "2024-01-06T10:37:02.530809",
     "status": "completed"
    },
    "tags": []
   },
   "source": [
    "![handlandmark](https://developers.google.com/static/mediapipe/images/solutions/hand-landmarks.png) create the node graph for hand landmarks "
   ]
  },
  {
   "cell_type": "code",
   "execution_count": null,
   "id": "174da3d8",
   "metadata": {
    "papermill": {
     "duration": 0.012226,
     "end_time": "2024-01-06T10:37:02.567766",
     "exception": false,
     "start_time": "2024-01-06T10:37:02.555540",
     "status": "completed"
    },
    "tags": []
   },
   "outputs": [],
   "source": []
  },
  {
   "cell_type": "code",
   "execution_count": 12,
   "id": "a763e2ec",
   "metadata": {
    "execution": {
     "iopub.execute_input": "2024-01-06T10:37:02.593853Z",
     "iopub.status.busy": "2024-01-06T10:37:02.593491Z",
     "iopub.status.idle": "2024-01-06T10:37:02.607114Z",
     "shell.execute_reply": "2024-01-06T10:37:02.606158Z"
    },
    "papermill": {
     "duration": 0.029389,
     "end_time": "2024-01-06T10:37:02.609379",
     "exception": false,
     "start_time": "2024-01-06T10:37:02.579990",
     "status": "completed"
    },
    "tags": []
   },
   "outputs": [],
   "source": [
    "num_node = 42\n",
    "self_link = [(i, i) for i in range(num_node)]\n",
    "inward_ori_index = [(1, 2), (2, 3), (3, 4), (4, 5), (1, 6), (6, 7), (7, 8),\n",
    "                    (8, 9), (6, 10), (10, 11), (11, 12), (12, 13), (10, 14),\n",
    "                    (14, 15), (15, 16), (16, 17), (14, 18), (18, 19), (19, 20),\n",
    "                    (20, 21), (18, 1)]\n",
    "inward_ori_index2=[(1+21, 2+21), (2+21, 3+21), (3+21, 4+21), (4+21, 5+21), (1+21, 6), \n",
    "                   (6+21, 7+21), (7+21, 8+21), (8+21, 9+21), (6+21, 10+21), \n",
    "                    (10+21, 11+21), (11+21, 12+21), (12+21, 13+21), (10+21, 14+21),\n",
    "                    (14+21, 15+21), (15+21, 16+21), (16+21, 17+21), (14+21, 18+21), (18+21, 19+21), (19+21, 20+21),\n",
    "                    (20+21, 21+21), (18+21, 1+21)]\n",
    "inward_ori_index.extend(inward_ori_index2)\n",
    "inward = [(i - 1, j - 1) for (i, j) in inward_ori_index]\n",
    "outward = [(j, i) for (i, j) in inward]\n",
    "neighbor = inward + outward"
   ]
  },
  {
   "cell_type": "code",
   "execution_count": 13,
   "id": "d7fef752",
   "metadata": {
    "execution": {
     "iopub.execute_input": "2024-01-06T10:37:02.636171Z",
     "iopub.status.busy": "2024-01-06T10:37:02.635379Z",
     "iopub.status.idle": "2024-01-06T10:37:02.642842Z",
     "shell.execute_reply": "2024-01-06T10:37:02.641822Z"
    },
    "papermill": {
     "duration": 0.023373,
     "end_time": "2024-01-06T10:37:02.645093",
     "exception": false,
     "start_time": "2024-01-06T10:37:02.621720",
     "status": "completed"
    },
    "tags": []
   },
   "outputs": [],
   "source": [
    "\n",
    "\n",
    "\n",
    "class Graph:\n",
    "    def __init__(self, labeling_mode='spatial'):\n",
    "        self.A = self.get_adjacency_matrix(labeling_mode)\n",
    "        self.num_node = num_node\n",
    "        self.self_link = self_link\n",
    "        self.inward = inward\n",
    "        self.outward = outward\n",
    "        self.neighbor = neighbor\n",
    "\n",
    "    def get_adjacency_matrix(self, labeling_mode=None):\n",
    "        if labeling_mode is None:\n",
    "            return self.A\n",
    "        if labeling_mode == 'spatial':\n",
    "            A = get_spatial_graph(num_node, self_link, inward, outward)\n",
    "        else:\n",
    "            raise ValueError()\n",
    "        return A\n"
   ]
  },
  {
   "cell_type": "code",
   "execution_count": 14,
   "id": "6b92548e",
   "metadata": {
    "execution": {
     "iopub.execute_input": "2024-01-06T10:37:02.698119Z",
     "iopub.status.busy": "2024-01-06T10:37:02.697771Z",
     "iopub.status.idle": "2024-01-06T10:37:02.738950Z",
     "shell.execute_reply": "2024-01-06T10:37:02.737860Z"
    },
    "papermill": {
     "duration": 0.057565,
     "end_time": "2024-01-06T10:37:02.741227",
     "exception": false,
     "start_time": "2024-01-06T10:37:02.683662",
     "status": "completed"
    },
    "tags": []
   },
   "outputs": [],
   "source": [
    "REGULARIZER = tf.keras.regularizers.l2(l=0.001)\n",
    "INITIALIZER = tf.keras.initializers.VarianceScaling(scale=2.,\n",
    "                                                    mode=\"fan_out\",\n",
    "                                                    distribution=\"truncated_normal\")\n",
    "class SGCN(tf.keras.Model):\n",
    "    def __init__(self, filters, kernel_size=3):\n",
    "        super().__init__()\n",
    "        self.kernel_size = kernel_size\n",
    "        self.conv = tf.keras.layers.Conv2D(filters*kernel_size,\n",
    "                                           kernel_size=1,\n",
    "                                           padding='same',\n",
    "                                           kernel_initializer=INITIALIZER,\n",
    "                                           data_format='channels_first',\n",
    "                                           kernel_regularizer=REGULARIZER)\n",
    "\n",
    "    # N, C, T, V\n",
    "    def call(self, x, A, training):\n",
    "        x = self.conv(x)\n",
    "\n",
    "        N = tf.shape(x)[0]\n",
    "        C = tf.shape(x)[1]\n",
    "        T = tf.shape(x)[2]\n",
    "        V = tf.shape(x)[3]\n",
    "\n",
    "        x = tf.reshape(x, [N, self.kernel_size, C//self.kernel_size, T, V])\n",
    "        x = tf.einsum('nkctv,kvw->nctw', x, A)\n",
    "        return x, A\n",
    "\n",
    "\n",
    "\"\"\"Applies a spatial temporal graph convolution over an input graph sequence.\n",
    "    Args:\n",
    "        filters (int): Number of channels produced by the convolution\n",
    "        kernel_size (tuple): Size of the temporal convolving kernel and graph convolving kernel\n",
    "        stride (int, optional): Stride of the temporal convolution. Default: 1\n",
    "        activation (activation function/name, optional): activation function to use\n",
    "        residual (bool, optional): If ``True``, applies a residual mechanism. Default: ``True``\n",
    "        downsample (bool, optional): If ``True``, applies a downsampling residual mechanism. Default: ``True``\n",
    "                                     the value is used only when residual is ``True``\n",
    "    Shape:\n",
    "        - Input[0]: Input graph sequence in :math:`(N, in_channels, T_{in}, V)` format\n",
    "        - Input[1]: Input graph adjacency matrix in :math:`(K, V, V)` format\n",
    "        - Output[0]: Outpu graph sequence in :math:`(N, out_channels, T_{out}, V)` format\n",
    "        - Output[1]: Graph adjacency matrix for output data in :math:`(K, V, V)` format\n",
    "        where\n",
    "            :math:`N` is a batch size,\n",
    "            :math:`K` is the spatial kernel size, as :math:`K == kernel_size[1]`,\n",
    "            :math:`T_{in}/T_{out}` is a length of input/output sequence,\n",
    "            :math:`V` is the number of graph nodes.\n",
    "\"\"\"\n",
    "class STGCN(tf.keras.Model):\n",
    "    def __init__(self, filters, kernel_size=[9, 3], stride=1, activation='relu',\n",
    "                 residual=True, downsample=False):\n",
    "        super().__init__()\n",
    "        self.sgcn = SGCN(filters, kernel_size=kernel_size[1])\n",
    "\n",
    "        self.tgcn = tf.keras.Sequential()\n",
    "        self.tgcn.add(tf.keras.layers.BatchNormalization(axis=1))\n",
    "        self.tgcn.add(tf.keras.layers.Activation(activation))\n",
    "        self.tgcn.add(tf.keras.layers.Conv2D(filters,\n",
    "                                                kernel_size=[kernel_size[0], 1],\n",
    "                                                strides=[stride, 1],\n",
    "                                                padding='same',\n",
    "                                                kernel_initializer=INITIALIZER,\n",
    "                                                data_format='channels_first',\n",
    "                                                kernel_regularizer=REGULARIZER))\n",
    "        self.tgcn.add(tf.keras.layers.BatchNormalization(axis=1))\n",
    "\n",
    "        self.act = tf.keras.layers.Activation(activation)\n",
    "\n",
    "        if not residual:\n",
    "            self.residual = lambda x, training=False: 0\n",
    "        elif residual and stride == 1 and not downsample:\n",
    "            self.residual = lambda x, training=False: x\n",
    "        else:\n",
    "            self.residual = tf.keras.Sequential()\n",
    "            self.residual.add(tf.keras.layers.Conv2D(filters,\n",
    "                                                        kernel_size=[1, 1],\n",
    "                                                        strides=[stride, 1],\n",
    "                                                        padding='same',\n",
    "                                                        kernel_initializer=INITIALIZER,\n",
    "                                                        data_format='channels_first',\n",
    "                                                        kernel_regularizer=REGULARIZER))\n",
    "            self.residual.add(tf.keras.layers.BatchNormalization(axis=1))\n",
    "\n",
    "    def call(self, x, A, training=True):\n",
    "        res = self.residual(x, training=training)\n",
    "        x, A = self.sgcn(x, A, training=training)\n",
    "        x = self.tgcn(x, training=training)\n",
    "        x += res\n",
    "        x = self.act(x)\n",
    "        return x, A\n",
    "\n",
    "\n",
    "\"\"\"Spatial temporal graph convolutional networks.\n",
    "    Args:\n",
    "        num_class (int): Number of classes for the classification task\n",
    "    Shape:\n",
    "        - Input: :math:`(N, in_channels, T_{in}, V_{in}, M_{in})`\n",
    "        - Output: :math:`(N, num_class)` where\n",
    "            :math:`N` is a batch size,\n",
    "            :math:`T_{in}` is a length of input sequence,\n",
    "            :math:`V_{in}` is the number of graph nodes,\n",
    "            :math:`M_{in}` is the number of instance in a frame.\n",
    "\"\"\"\n",
    "class Model(tf.keras.Model):\n",
    "    def __init__(self, num_classes=250):\n",
    "        super().__init__()\n",
    "\n",
    "        graph = Graph()\n",
    "        self.A = tf.Variable(graph.A,\n",
    "                             dtype=tf.float32,\n",
    "                             trainable=False,\n",
    "                             name='adjacency_matrix')\n",
    "\n",
    "        self.data_bn = tf.keras.layers.BatchNormalization(axis=1)\n",
    "\n",
    "        self.STGCN_layers = []\n",
    "        self.STGCN_layers.append(STGCN(64, residual=False))\n",
    "        self.STGCN_layers.append(STGCN(64))\n",
    "        self.STGCN_layers.append(STGCN(64))\n",
    "        self.STGCN_layers.append(STGCN(64))\n",
    "        self.STGCN_layers.append(STGCN(128, stride=2, downsample=True))\n",
    "        self.STGCN_layers.append(STGCN(128))\n",
    "        self.STGCN_layers.append(STGCN(128))\n",
    "        self.STGCN_layers.append(STGCN(256, stride=2, downsample=True))\n",
    "        self.STGCN_layers.append(STGCN(256))\n",
    "        self.STGCN_layers.append(STGCN(256))\n",
    "\n",
    "        self.pool = tf.keras.layers.GlobalAveragePooling2D(data_format='channels_first')\n",
    "\n",
    "        self.logits = tf.keras.layers.Conv2D(num_classes,\n",
    "                                             kernel_size=1,\n",
    "                                             padding='same',\n",
    "                                             kernel_initializer=INITIALIZER,\n",
    "                                             data_format='channels_first',\n",
    "                                             kernel_regularizer=REGULARIZER)\n",
    "\n",
    "    def call(self, x, training):\n",
    "        N = tf.shape(x)[0]\n",
    "        C = tf.shape(x)[1]\n",
    "        T = tf.shape(x)[2]\n",
    "        V = tf.shape(x)[3]\n",
    "        M = tf.shape(x)[4]\n",
    "\n",
    "        x = tf.transpose(x, perm=[0, 4, 3, 1, 2])\n",
    "        x = tf.reshape(x, [N * M, V * C, T])\n",
    "        x = self.data_bn(x, training=training)\n",
    "        x = tf.reshape(x, [N, M, V, C, T])\n",
    "        x = tf.transpose(x, perm=[0, 1, 3, 4, 2])\n",
    "        x = tf.reshape(x, [N * M, C, T, V])\n",
    "\n",
    "        A = self.A\n",
    "        for layer in self.STGCN_layers:\n",
    "            x, A = layer(x, A, training=training)\n",
    "\n",
    "        # N*M,C,T,V\n",
    "        x = self.pool(x)\n",
    "        x = tf.reshape(x, [N, M, -1, 1, 1])\n",
    "        x = tf.reduce_mean(x, axis=1)\n",
    "        x = self.logits(x)\n",
    "        x = tf.reshape(x, [N, -1])\n",
    "#         print(x.shape)\n",
    "        return x\n"
   ]
  },
  {
   "cell_type": "code",
   "execution_count": 15,
   "id": "f542ed20",
   "metadata": {
    "execution": {
     "iopub.execute_input": "2024-01-06T10:37:02.767279Z",
     "iopub.status.busy": "2024-01-06T10:37:02.766570Z",
     "iopub.status.idle": "2024-01-06T10:37:02.943942Z",
     "shell.execute_reply": "2024-01-06T10:37:02.942860Z"
    },
    "papermill": {
     "duration": 0.19311,
     "end_time": "2024-01-06T10:37:02.946684",
     "exception": false,
     "start_time": "2024-01-06T10:37:02.753574",
     "status": "completed"
    },
    "tags": []
   },
   "outputs": [],
   "source": [
    "model =  Model(num_classes=250)"
   ]
  },
  {
   "cell_type": "code",
   "execution_count": 16,
   "id": "36fc5942",
   "metadata": {
    "execution": {
     "iopub.execute_input": "2024-01-06T10:37:02.975288Z",
     "iopub.status.busy": "2024-01-06T10:37:02.974277Z",
     "iopub.status.idle": "2024-01-06T10:38:31.115131Z",
     "shell.execute_reply": "2024-01-06T10:38:31.114116Z"
    },
    "papermill": {
     "duration": 88.169735,
     "end_time": "2024-01-06T10:38:31.129546",
     "exception": false,
     "start_time": "2024-01-06T10:37:02.959811",
     "status": "completed"
    },
    "tags": []
   },
   "outputs": [
    {
     "name": "stderr",
     "output_type": "stream",
     "text": [
      "/opt/conda/lib/python3.7/site-packages/keras/initializers/initializers_v2.py:121: UserWarning: The initializer VarianceScaling is unseeded and being called multiple times, which will return identical values  each time (even if the initializer is unseeded). Please update your code to provide a seed to the initializer, or avoid using the same initalizer instance more than once.\n",
      "  f\"The initializer {self.__class__.__name__} is unseeded \"\n"
     ]
    },
    {
     "name": "stdout",
     "output_type": "stream",
     "text": [
      "ETA: 1.47 - epoch: 1 loss: 15.992197036743164  acc: 0.004277012776583433 val loss: 15.992197036743164 val acc: 0.006756756920367479\n",
      "\n"
     ]
    }
   ],
   "source": [
    "# Instantiate an optimizer to train the model.\n",
    "optimizer = tf.keras.optimizers.Adam()\n",
    "\n",
    "# Instantiate a loss function\n",
    "loss_fn = tf.keras.losses.SparseCategoricalCrossentropy()\n",
    "\n",
    "# Prepare the metrics.\n",
    "train_acc_metric = tf.keras.metrics.CategoricalAccuracy()\n",
    "val_acc_metric   = tf.keras.metrics.CategoricalAccuracy()\n",
    "\n",
    "# tensorboard writer \n",
    "train_writer = tf.summary.create_file_writer('logs/train/')\n",
    "test_writer  = tf.summary.create_file_writer('logs/test/')\n",
    "\n",
    "\n",
    "@tf.function\n",
    "def train_step(step, x, y):\n",
    "   '''\n",
    "   input: x, y <- typically batches \n",
    "   input: step <- batch step\n",
    "   return: loss value\n",
    "   '''\n",
    "\n",
    "    # start the scope of gradient \n",
    "   with tf.GradientTape() as tape:\n",
    "        logits = model(x, training=True) # forward pass\n",
    "        train_loss_value = loss_fn(y, logits) # compute loss \n",
    "\n",
    "    # compute gradient \n",
    "   grads = tape.gradient(train_loss_value, model.trainable_weights)\n",
    "\n",
    "    # update weights\n",
    "   optimizer.apply_gradients(zip(grads, model.trainable_weights))\n",
    "\n",
    "    # update metrics\n",
    "   train_acc_metric.update_state(y, logits)\n",
    "    \n",
    "    # write training loss and accuracy to the tensorboard\n",
    "   with train_writer.as_default():\n",
    "        tf.summary.scalar('loss', train_loss_value, step=step)\n",
    "        tf.summary.scalar(\n",
    "            'accuracy', train_acc_metric.result(), step=step\n",
    "        ) \n",
    "   return train_loss_value\n",
    "\n",
    "\n",
    "@tf.function\n",
    "def test_step(step, x, y):\n",
    "   '''\n",
    "   input: x, y <- typically batches \n",
    "   input: step <- batch step\n",
    "   return: loss value\n",
    "   '''\n",
    "    # forward pass, no backprop, inference mode \n",
    "   val_logits = model(x, training=False) \n",
    "\n",
    "    # Compute the loss value \n",
    "   val_loss_value = loss_fn(y, val_logits)\n",
    "\n",
    "    # Update val metrics\n",
    "   val_acc_metric.update_state(y, val_logits)\n",
    "    \n",
    "    # write test loss and accuracy to the tensorboard\n",
    "   with test_writer.as_default():\n",
    "        tf.summary.scalar('val loss', val_loss_value, step=step)\n",
    "        tf.summary.scalar(\n",
    "            'val accuracy', val_acc_metric.result(), step=step\n",
    "        ) \n",
    "   return val_loss_value\n",
    "\n",
    "\n",
    "# custom training loop \n",
    "for epoch in range(1):\n",
    "    t = time.time()\n",
    "    # batch training \n",
    "\n",
    "    # Iterate over the batches of the train dataset.\n",
    "    for train_batch_step, (x_batch_train, \\\n",
    "                           y_batch_train) in enumerate(train_ds):\n",
    "        train_batch_step = tf.convert_to_tensor(\n",
    "                                train_batch_step, dtype=tf.int64\n",
    "                           )\n",
    "        train_loss_value = train_step(\n",
    "                                train_batch_step, \n",
    "                                x_batch_train, y_batch_train\n",
    "                           )\n",
    "\n",
    "    # evaluation on validation set \n",
    "    # Run a validation loop at the end of each epoch.\n",
    "    for test_batch_step, (x_batch_val, \\\n",
    "                          y_batch_val) in enumerate(valid_ds):\n",
    "        test_batch_step = tf.convert_to_tensor(\n",
    "                               test_batch_step, dtype=tf.int64\n",
    "                          )\n",
    "        val_loss_value = test_step(\n",
    "                                test_batch_step, x_batch_val, y_batch_val\n",
    "                          )\n",
    "\n",
    "\n",
    "    template = 'ETA: {} - epoch: {} loss: {}  acc: {} val loss: {} val acc: {}\\n'\n",
    "    print(template.format(\n",
    "        round((time.time() - t)/60, 2), epoch + 1,\n",
    "        train_loss_value, float(train_acc_metric.result()),\n",
    "        val_loss_value, float(val_acc_metric.result())\n",
    "    ))\n",
    "        \n",
    "    # Reset metrics at the end of each epoch\n",
    "    train_acc_metric.reset_states()\n",
    "    val_acc_metric.reset_states()"
   ]
  },
  {
   "cell_type": "code",
   "execution_count": 17,
   "id": "beae8675",
   "metadata": {
    "execution": {
     "iopub.execute_input": "2024-01-06T10:38:31.156297Z",
     "iopub.status.busy": "2024-01-06T10:38:31.155349Z",
     "iopub.status.idle": "2024-01-06T10:38:31.161547Z",
     "shell.execute_reply": "2024-01-06T10:38:31.160514Z"
    },
    "papermill": {
     "duration": 0.021991,
     "end_time": "2024-01-06T10:38:31.163853",
     "exception": false,
     "start_time": "2024-01-06T10:38:31.141862",
     "status": "completed"
    },
    "tags": []
   },
   "outputs": [],
   "source": [
    "def get_model():\n",
    "          \n",
    "    model =  Model(num_classes=250)\n",
    "    model.build((128,3,5,42,1))\n",
    "    model.compile(\n",
    "        loss=tf.keras.losses.SparseCategoricalCrossentropy(), metrics=[\n",
    "            \"accuracy\",\n",
    "        ]\n",
    "    )\n",
    "    return model"
   ]
  },
  {
   "cell_type": "code",
   "execution_count": 18,
   "id": "c9ddfb49",
   "metadata": {
    "execution": {
     "iopub.execute_input": "2024-01-06T10:38:31.189743Z",
     "iopub.status.busy": "2024-01-06T10:38:31.189183Z",
     "iopub.status.idle": "2024-01-06T10:38:31.202007Z",
     "shell.execute_reply": "2024-01-06T10:38:31.200987Z"
    },
    "papermill": {
     "duration": 0.028054,
     "end_time": "2024-01-06T10:38:31.204183",
     "exception": false,
     "start_time": "2024-01-06T10:38:31.176129",
     "status": "completed"
    },
    "tags": []
   },
   "outputs": [],
   "source": [
    "def conv1d_lstm_block(inputs, filters):\n",
    "    vector = tf.keras.layers.ConvLSTM1D(filters=32, kernel_size=8)(inputs)\n",
    "    for f in filters:\n",
    "        vector = tf.keras.layers.Conv1D(filters=f, kernel_size=8)(vector)\n",
    "        vector = tf.keras.layers.MaxPooling1D()(vector)\n",
    "    vector = tf.keras.layers.Dropout(0.3)(vector)\n",
    "    return vector\n",
    "\n",
    "def get_model():\n",
    "    inputs = tf.keras.Input((CFG.sequence_length, 543, 3), dtype=tf.float32)\n",
    "    face_inputs = inputs[:, :, 0:468, :]\n",
    "    left_hand_inputs = inputs[:, :, 468:489, :]\n",
    "    pose_inputs = inputs[:, :, 489:522, :]\n",
    "    right_hand_inputs = inputs[:, :,522:,:]\n",
    "    face_vector = conv1d_lstm_block(face_inputs, [32, 64])\n",
    "    left_hand_vector = conv1d_lstm_block(left_hand_inputs, [64])\n",
    "    right_hand_vector = conv1d_lstm_block(right_hand_inputs, [64])\n",
    "    pose_vector = conv1d_lstm_block(pose_inputs, [64])\n",
    "    vector = tf.keras.layers.Concatenate(axis=1)([face_vector, left_hand_vector, right_hand_vector, pose_vector])\n",
    "    vector = tf.keras.layers.Flatten()(vector)\n",
    "    output = tf.keras.layers.Dense(250, activation=\"softmax\")(vector)\n",
    "    model = tf.keras.Model(inputs=inputs, outputs=output)\n",
    "    model.compile(\n",
    "        loss=tf.keras.losses.SparseCategoricalCrossentropy(), metrics=[\n",
    "            \"accuracy\",\n",
    "        ]\n",
    "    )\n",
    "    return model"
   ]
  },
  {
   "cell_type": "code",
   "execution_count": 19,
   "id": "9ddfc6ff",
   "metadata": {
    "execution": {
     "iopub.execute_input": "2024-01-06T10:38:31.229755Z",
     "iopub.status.busy": "2024-01-06T10:38:31.229476Z",
     "iopub.status.idle": "2024-01-06T10:38:32.874838Z",
     "shell.execute_reply": "2024-01-06T10:38:32.873261Z"
    },
    "papermill": {
     "duration": 1.663565,
     "end_time": "2024-01-06T10:38:32.879933",
     "exception": false,
     "start_time": "2024-01-06T10:38:31.216368",
     "status": "completed"
    },
    "tags": []
   },
   "outputs": [
    {
     "name": "stdout",
     "output_type": "stream",
     "text": [
      "Model: \"model_1\"\n",
      "__________________________________________________________________________________________________\n",
      " Layer (type)                   Output Shape         Param #     Connected to                     \n",
      "==================================================================================================\n",
      " input_1 (InputLayer)           [(None, 12, 543, 3)  0           []                               \n",
      "                                ]                                                                 \n",
      "                                                                                                  \n",
      " tf.__operators__.getitem (Slic  (None, 12, 468, 3)  0           ['input_1[0][0]']                \n",
      " ingOpLambda)                                                                                     \n",
      "                                                                                                  \n",
      " conv_lstm1d (ConvLSTM1D)       (None, 461, 32)      35968       ['tf.__operators__.getitem[0][0]'\n",
      "                                                                 ]                                \n",
      "                                                                                                  \n",
      " conv1d (Conv1D)                (None, 454, 32)      8224        ['conv_lstm1d[0][0]']            \n",
      "                                                                                                  \n",
      " tf.__operators__.getitem_1 (Sl  (None, 12, 21, 3)   0           ['input_1[0][0]']                \n",
      " icingOpLambda)                                                                                   \n",
      "                                                                                                  \n",
      " tf.__operators__.getitem_3 (Sl  (None, 12, 21, 3)   0           ['input_1[0][0]']                \n",
      " icingOpLambda)                                                                                   \n",
      "                                                                                                  \n",
      " tf.__operators__.getitem_2 (Sl  (None, 12, 33, 3)   0           ['input_1[0][0]']                \n",
      " icingOpLambda)                                                                                   \n",
      "                                                                                                  \n",
      " max_pooling1d (MaxPooling1D)   (None, 227, 32)      0           ['conv1d[0][0]']                 \n",
      "                                                                                                  \n",
      " conv_lstm1d_1 (ConvLSTM1D)     (None, 14, 32)       35968       ['tf.__operators__.getitem_1[0][0\n",
      "                                                                 ]']                              \n",
      "                                                                                                  \n",
      " conv_lstm1d_2 (ConvLSTM1D)     (None, 14, 32)       35968       ['tf.__operators__.getitem_3[0][0\n",
      "                                                                 ]']                              \n",
      "                                                                                                  \n",
      " conv_lstm1d_3 (ConvLSTM1D)     (None, 26, 32)       35968       ['tf.__operators__.getitem_2[0][0\n",
      "                                                                 ]']                              \n",
      "                                                                                                  \n",
      " conv1d_1 (Conv1D)              (None, 220, 64)      16448       ['max_pooling1d[0][0]']          \n",
      "                                                                                                  \n",
      " conv1d_2 (Conv1D)              (None, 7, 64)        16448       ['conv_lstm1d_1[0][0]']          \n",
      "                                                                                                  \n",
      " conv1d_3 (Conv1D)              (None, 7, 64)        16448       ['conv_lstm1d_2[0][0]']          \n",
      "                                                                                                  \n",
      " conv1d_4 (Conv1D)              (None, 19, 64)       16448       ['conv_lstm1d_3[0][0]']          \n",
      "                                                                                                  \n",
      " max_pooling1d_1 (MaxPooling1D)  (None, 110, 64)     0           ['conv1d_1[0][0]']               \n",
      "                                                                                                  \n",
      " max_pooling1d_2 (MaxPooling1D)  (None, 3, 64)       0           ['conv1d_2[0][0]']               \n",
      "                                                                                                  \n",
      " max_pooling1d_3 (MaxPooling1D)  (None, 3, 64)       0           ['conv1d_3[0][0]']               \n",
      "                                                                                                  \n",
      " max_pooling1d_4 (MaxPooling1D)  (None, 9, 64)       0           ['conv1d_4[0][0]']               \n",
      "                                                                                                  \n",
      " dropout (Dropout)              (None, 110, 64)      0           ['max_pooling1d_1[0][0]']        \n",
      "                                                                                                  \n",
      " dropout_1 (Dropout)            (None, 3, 64)        0           ['max_pooling1d_2[0][0]']        \n",
      "                                                                                                  \n",
      " dropout_2 (Dropout)            (None, 3, 64)        0           ['max_pooling1d_3[0][0]']        \n",
      "                                                                                                  \n",
      " dropout_3 (Dropout)            (None, 9, 64)        0           ['max_pooling1d_4[0][0]']        \n",
      "                                                                                                  \n",
      " concatenate (Concatenate)      (None, 125, 64)      0           ['dropout[0][0]',                \n",
      "                                                                  'dropout_1[0][0]',              \n",
      "                                                                  'dropout_2[0][0]',              \n",
      "                                                                  'dropout_3[0][0]']              \n",
      "                                                                                                  \n",
      " flatten (Flatten)              (None, 8000)         0           ['concatenate[0][0]']            \n",
      "                                                                                                  \n",
      " dense (Dense)                  (None, 250)          2000250     ['flatten[0][0]']                \n",
      "                                                                                                  \n",
      "==================================================================================================\n",
      "Total params: 2,218,138\n",
      "Trainable params: 2,218,138\n",
      "Non-trainable params: 0\n",
      "__________________________________________________________________________________________________\n"
     ]
    },
    {
     "data": {
      "image/png": "[encoded data removed]",
      "text/plain": [
       "<IPython.core.display.Image object>"
      ]
     },
     "execution_count": 19,
     "metadata": {},
     "output_type": "execute_result"
    }
   ],
   "source": [
    "model = get_model()\n",
    "model.summary()\n",
    "tf.keras.utils.plot_model(model, show_shapes=True)"
   ]
  },
  {
   "cell_type": "code",
   "execution_count": null,
   "id": "87e7ff11",
   "metadata": {
    "execution": {
     "iopub.execute_input": "2023-12-29T09:39:02.099028Z",
     "iopub.status.busy": "2023-12-29T09:39:02.098207Z",
     "iopub.status.idle": "2023-12-29T09:40:09.398188Z",
     "shell.execute_reply": "2023-12-29T09:40:09.396758Z",
     "shell.execute_reply.started": "2023-12-29T09:39:02.098983Z"
    },
    "papermill": {
     "duration": null,
     "end_time": null,
     "exception": null,
     "start_time": null,
     "status": "pending"
    },
    "tags": []
   },
   "outputs": [],
   "source": [
    "if CFG.is_training:\n",
    "    file_name = \"models/islr-fp16-192-8-seed_all42-foldall-last.h5\"\n",
    "    callbacks = [\n",
    "        tf.keras.callbacks.ModelCheckpoint(\n",
    "            file_name, \n",
    "            save_best_only=True, \n",
    "            restore_best_weights=True, \n",
    "            monitor=\"val_accuracy\",\n",
    "            mode=\"max\"\n",
    "        ),\n",
    "        tf.keras.callbacks.EarlyStopping(\n",
    "            patience=5, \n",
    "            monitor=\"val_accuracy\",\n",
    "            mode=\"max\"\n",
    "        )\n",
    "    ]\n",
    "    model.fit(train_ds, epochs=1, validation_data=valid_ds)\n",
    "    model.save('models/islr-fp16-192-8-seed_all42-foldall-last.h5',save_format='tf')\n",
    "    model = tf.keras.models.load_model(file_name)\n",
    "else:\n",
    "    model = tf.keras.models.load_model(\"models/islr-fp16-192-8-seed_all42-foldall-last.h5\")\n",
    "model.evaluate(valid_ds)   "
   ]
  }
 ],
 "metadata": {
  "kaggle": {
   "accelerator": "gpu",
   "dataSources": [
    {
     "databundleVersionId": 5087314,
     "sourceId": 46105,
     "sourceType": "competition"
    },
    {
     "datasetId": 2952996,
     "sourceId": 5085633,
     "sourceType": "datasetVersion"
    },
    {
     "datasetId": 2958438,
     "sourceId": 5094427,
     "sourceType": "datasetVersion"
    },
    {
     "datasetId": 3115874,
     "sourceId": 5369912,
     "sourceType": "datasetVersion"
    }
   ],
   "dockerImageVersionId": 30408,
   "isGpuEnabled": true,
   "isInternetEnabled": true,
   "language": "python",
   "sourceType": "notebook"
  },
  "kernelspec": {
   "display_name": "Python 3",
   "language": "python",
   "name": "python3"
  },
  "language_info": {
   "codemirror_mode": {
    "name": "ipython",
    "version": 3
   },
   "file_extension": ".py",
   "mimetype": "text/x-python",
   "name": "python",
   "nbconvert_exporter": "python",
   "pygments_lexer": "ipython3",
   "version": "3.11.4"
  },
  "papermill": {
   "default_parameters": {},
   "duration": 117.021186,
   "end_time": "2024-01-06T10:38:37.024514",
   "environment_variables": {},
   "exception": true,
   "input_path": "__notebook__.ipynb",
   "output_path": "__notebook__.ipynb",
   "parameters": {},
   "start_time": "2024-01-06T10:36:40.003328",
   "version": "2.4.0"
  }
 },
 "nbformat": 4,
 "nbformat_minor": 5
}
